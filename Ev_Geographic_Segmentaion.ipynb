{
 "cells": [
  {
   "cell_type": "markdown",
   "metadata": {},
   "source": [
    "<h2>EV_Geographic_segmentation_India</h2>"
   ]
  },
  {
   "cell_type": "markdown",
   "metadata": {},
   "source": [
    "<h3>Introduction:</h3>\n",
    "\n",
    "<h5>Electric vehicles are gaining traction and popularity as people become more environmentally conscious. For consumers, this means more EV options are on the market. On the other hand, more and more automotive companies are also investing in electric vehicle research and development to cope with this growing trend. \n",
    "\n",
    "An EV is a shortened acronym for an electric vehicle. EVs are vehicles that are either partially or fully powered on electric power</h5>"
   ]
  },
  {
   "cell_type": "markdown",
   "metadata": {},
   "source": [
    "<h3>Different Types of EVs</h3>\n",
    "\n",
    "<h4> 1.Battery Electric Vehicle (BEV)\n",
    "A BEV is an electric vehicle that is powered only by batteries. \n",
    "These batteries need to be recharged regularly, \n",
    "similar to how you would recharge your mobile phone ,laptop .\n",
    "The main advantage of BEVs is that they have zero emissions, \n",
    "making them very environmentally friendly.\n",
    " \n",
    "\n",
    "<h4>2.Plug-in Hybrid Electric Vehicle (PHEV)\n",
    "A PHEV is an electric vehicle powered by both batteries and gasoline. \n",
    "PHEVs have electric motors that are powered by batteries that you can recharge by plugging the vehicle into a suitable charging point.\n",
    "</h4>"
   ]
  },
  {
   "cell_type": "code",
   "execution_count": 1,
   "metadata": {},
   "outputs": [],
   "source": [
    "#import packages/libraries\n",
    "import pandas as pd\n",
    "import numpy as np\n",
    "import matplotlib.pyplot as plt\n",
    "import seaborn as sns\n",
    "import warnings\n",
    "warnings.filterwarnings(\"ignore\")\n"
   ]
  },
  {
   "cell_type": "markdown",
   "metadata": {},
   "source": [
    "<h3>collecting dataset</h3>\n",
    "<h4>https://www.kaggle.com/datasets/fathimaibrahimkunju/electric-vehicle-in-india-2022</h4>"
   ]
  },
  {
   "cell_type": "code",
   "execution_count": 2,
   "metadata": {},
   "outputs": [],
   "source": [
    "#Read dataset\n",
    "df=pd.read_csv(\"Ev_india_2022/EV_India.csv\")"
   ]
  },
  {
   "cell_type": "code",
   "execution_count": 3,
   "metadata": {},
   "outputs": [
    {
     "data": {
      "text/html": [
       "<div>\n",
       "<style scoped>\n",
       "    .dataframe tbody tr th:only-of-type {\n",
       "        vertical-align: middle;\n",
       "    }\n",
       "\n",
       "    .dataframe tbody tr th {\n",
       "        vertical-align: top;\n",
       "    }\n",
       "\n",
       "    .dataframe thead th {\n",
       "        text-align: right;\n",
       "    }\n",
       "</style>\n",
       "<table border=\"1\" class=\"dataframe\">\n",
       "  <thead>\n",
       "    <tr style=\"text-align: right;\">\n",
       "      <th></th>\n",
       "      <th>Sr. No.</th>\n",
       "      <th>State Name</th>\n",
       "      <th>Total Electric Vehicle</th>\n",
       "      <th>Total Non-Electric Vehicle</th>\n",
       "      <th>Total</th>\n",
       "    </tr>\n",
       "  </thead>\n",
       "  <tbody>\n",
       "    <tr>\n",
       "      <th>0</th>\n",
       "      <td>1</td>\n",
       "      <td>Andaman &amp; Nicobar Island</td>\n",
       "      <td>162</td>\n",
       "      <td>1,46,945</td>\n",
       "      <td>1,47,107</td>\n",
       "    </tr>\n",
       "    <tr>\n",
       "      <th>1</th>\n",
       "      <td>2</td>\n",
       "      <td>Andra Pradesh</td>\n",
       "      <td>NaN</td>\n",
       "      <td>NaN</td>\n",
       "      <td>NaN</td>\n",
       "    </tr>\n",
       "    <tr>\n",
       "      <th>2</th>\n",
       "      <td>3</td>\n",
       "      <td>Arunachal Pradesh</td>\n",
       "      <td>20</td>\n",
       "      <td>2,52,965</td>\n",
       "      <td>2,52,985</td>\n",
       "    </tr>\n",
       "  </tbody>\n",
       "</table>\n",
       "</div>"
      ],
      "text/plain": [
       "   Sr. No.                State Name Total Electric Vehicle  \\\n",
       "0        1  Andaman & Nicobar Island                    162   \n",
       "1        2             Andra Pradesh                    NaN   \n",
       "2        3         Arunachal Pradesh                     20   \n",
       "\n",
       "  Total Non-Electric Vehicle     Total  \n",
       "0                   1,46,945  1,47,107  \n",
       "1                        NaN       NaN  \n",
       "2                   2,52,965  2,52,985  "
      ]
     },
     "execution_count": 3,
     "metadata": {},
     "output_type": "execute_result"
    }
   ],
   "source": [
    "df.head(3)"
   ]
  },
  {
   "cell_type": "code",
   "execution_count": 4,
   "metadata": {},
   "outputs": [
    {
     "data": {
      "text/html": [
       "<div>\n",
       "<style scoped>\n",
       "    .dataframe tbody tr th:only-of-type {\n",
       "        vertical-align: middle;\n",
       "    }\n",
       "\n",
       "    .dataframe tbody tr th {\n",
       "        vertical-align: top;\n",
       "    }\n",
       "\n",
       "    .dataframe thead th {\n",
       "        text-align: right;\n",
       "    }\n",
       "</style>\n",
       "<table border=\"1\" class=\"dataframe\">\n",
       "  <thead>\n",
       "    <tr style=\"text-align: right;\">\n",
       "      <th></th>\n",
       "      <th>Sr. No.</th>\n",
       "    </tr>\n",
       "  </thead>\n",
       "  <tbody>\n",
       "    <tr>\n",
       "      <th>count</th>\n",
       "      <td>36.000000</td>\n",
       "    </tr>\n",
       "    <tr>\n",
       "      <th>mean</th>\n",
       "      <td>18.500000</td>\n",
       "    </tr>\n",
       "    <tr>\n",
       "      <th>std</th>\n",
       "      <td>10.535654</td>\n",
       "    </tr>\n",
       "    <tr>\n",
       "      <th>min</th>\n",
       "      <td>1.000000</td>\n",
       "    </tr>\n",
       "    <tr>\n",
       "      <th>25%</th>\n",
       "      <td>9.750000</td>\n",
       "    </tr>\n",
       "    <tr>\n",
       "      <th>50%</th>\n",
       "      <td>18.500000</td>\n",
       "    </tr>\n",
       "    <tr>\n",
       "      <th>75%</th>\n",
       "      <td>27.250000</td>\n",
       "    </tr>\n",
       "    <tr>\n",
       "      <th>max</th>\n",
       "      <td>36.000000</td>\n",
       "    </tr>\n",
       "  </tbody>\n",
       "</table>\n",
       "</div>"
      ],
      "text/plain": [
       "         Sr. No.\n",
       "count  36.000000\n",
       "mean   18.500000\n",
       "std    10.535654\n",
       "min     1.000000\n",
       "25%     9.750000\n",
       "50%    18.500000\n",
       "75%    27.250000\n",
       "max    36.000000"
      ]
     },
     "execution_count": 4,
     "metadata": {},
     "output_type": "execute_result"
    }
   ],
   "source": [
    "df.describe()"
   ]
  },
  {
   "cell_type": "code",
   "execution_count": 5,
   "metadata": {},
   "outputs": [
    {
     "name": "stdout",
     "output_type": "stream",
     "text": [
      "<class 'pandas.core.frame.DataFrame'>\n",
      "RangeIndex: 36 entries, 0 to 35\n",
      "Data columns (total 5 columns):\n",
      " #   Column                      Non-Null Count  Dtype \n",
      "---  ------                      --------------  ----- \n",
      " 0   Sr. No.                     36 non-null     int64 \n",
      " 1   State Name                  36 non-null     object\n",
      " 2   Total Electric Vehicle      32 non-null     object\n",
      " 3   Total Non-Electric Vehicle  32 non-null     object\n",
      " 4   Total                       32 non-null     object\n",
      "dtypes: int64(1), object(4)\n",
      "memory usage: 1.5+ KB\n"
     ]
    }
   ],
   "source": [
    "df.info()"
   ]
  },
  {
   "cell_type": "code",
   "execution_count": 6,
   "metadata": {},
   "outputs": [
    {
     "data": {
      "text/plain": [
       "Sr. No.                       0\n",
       "State Name                    0\n",
       "Total Electric Vehicle        4\n",
       "Total Non-Electric Vehicle    4\n",
       "Total                         4\n",
       "dtype: int64"
      ]
     },
     "execution_count": 6,
     "metadata": {},
     "output_type": "execute_result"
    }
   ],
   "source": [
    "df.isnull().sum()"
   ]
  },
  {
   "cell_type": "markdown",
   "metadata": {},
   "source": [
    "<h3>Missing value</h3>\n"
   ]
  },
  {
   "cell_type": "code",
   "execution_count": 7,
   "metadata": {},
   "outputs": [],
   "source": [
    "#fill ,missing values\n",
    "\n",
    "df[\"Total Electric Vehicle\"].fillna(df[\"Total Electric Vehicle\"].mode()[0],inplace=True)\n",
    "df[\"Total Non-Electric Vehicle\"].fillna(df[\"Total Non-Electric Vehicle\"].mode()[0],inplace=True)\n",
    "df[\"Total\"].fillna(df[\"Total\"].mode()[0],inplace=True)\n"
   ]
  },
  {
   "cell_type": "code",
   "execution_count": 8,
   "metadata": {},
   "outputs": [
    {
     "data": {
      "text/plain": [
       "Sr. No.                       0\n",
       "State Name                    0\n",
       "Total Electric Vehicle        0\n",
       "Total Non-Electric Vehicle    0\n",
       "Total                         0\n",
       "dtype: int64"
      ]
     },
     "execution_count": 8,
     "metadata": {},
     "output_type": "execute_result"
    }
   ],
   "source": [
    "df.isnull().sum()"
   ]
  },
  {
   "cell_type": "code",
   "execution_count": 9,
   "metadata": {},
   "outputs": [],
   "source": [
    "df[\"Total Electric Vehicle\"]=pd.to_numeric(df[\"Total Electric Vehicle\"],errors='coerce')\n"
   ]
  },
  {
   "cell_type": "code",
   "execution_count": 10,
   "metadata": {},
   "outputs": [
    {
     "name": "stdout",
     "output_type": "stream",
     "text": [
      "<class 'pandas.core.frame.DataFrame'>\n",
      "RangeIndex: 36 entries, 0 to 35\n",
      "Data columns (total 5 columns):\n",
      " #   Column                      Non-Null Count  Dtype  \n",
      "---  ------                      --------------  -----  \n",
      " 0   Sr. No.                     36 non-null     int64  \n",
      " 1   State Name                  36 non-null     object \n",
      " 2   Total Electric Vehicle      32 non-null     float64\n",
      " 3   Total Non-Electric Vehicle  36 non-null     object \n",
      " 4   Total                       36 non-null     object \n",
      "dtypes: float64(1), int64(1), object(3)\n",
      "memory usage: 1.5+ KB\n"
     ]
    }
   ],
   "source": [
    "df.info()"
   ]
  },
  {
   "cell_type": "code",
   "execution_count": 11,
   "metadata": {},
   "outputs": [],
   "source": [
    "X=df[\"State Name\"]"
   ]
  },
  {
   "cell_type": "code",
   "execution_count": 12,
   "metadata": {},
   "outputs": [],
   "source": [
    "Y=df[\"Total Electric Vehicle\"]\n"
   ]
  },
  {
   "cell_type": "markdown",
   "metadata": {},
   "source": [
    "<h3>Ev geographical segmentation</h3>"
   ]
  },
  {
   "cell_type": "markdown",
   "metadata": {},
   "source": [
    "<h4>bar graph</h4>\n",
    "<h5>A bar graph is a graphical representation of information. It uses bars that extend to different heights to depict value. Bar graphs can be created with vertical bars, horizontal bars</h5>"
   ]
  },
  {
   "cell_type": "code",
   "execution_count": 13,
   "metadata": {},
   "outputs": [
    {
     "data": {
      "image/png": "[encoded data removed]",
      "text/plain": [
       "<Figure size 432x288 with 1 Axes>"
      ]
     },
     "metadata": {
      "needs_background": "light"
     },
     "output_type": "display_data"
    },
    {
     "data": {
      "text/plain": [
       "<Figure size 1440x864 with 0 Axes>"
      ]
     },
     "metadata": {},
     "output_type": "display_data"
    }
   ],
   "source": [
    "plt.barh(X,Y,color='b',align='center')\n",
    "plt.title(\"State Wise Electric Vehicle Shows\")\n",
    "plt.xlabel(\"Number of Ev's in India\")\n",
    "plt.ylabel(\"States\")\n",
    "plt.figure(figsize=(20,12))\n",
    "plt.show()"
   ]
  },
  {
   "cell_type": "code",
   "execution_count": 14,
   "metadata": {},
   "outputs": [
    {
     "data": {
      "text/html": [
       "<div>\n",
       "<style scoped>\n",
       "    .dataframe tbody tr th:only-of-type {\n",
       "        vertical-align: middle;\n",
       "    }\n",
       "\n",
       "    .dataframe tbody tr th {\n",
       "        vertical-align: top;\n",
       "    }\n",
       "\n",
       "    .dataframe thead th {\n",
       "        text-align: right;\n",
       "    }\n",
       "</style>\n",
       "<table border=\"1\" class=\"dataframe\">\n",
       "  <thead>\n",
       "    <tr style=\"text-align: right;\">\n",
       "      <th></th>\n",
       "      <th>State Name</th>\n",
       "      <th>Total Electric Vehicle</th>\n",
       "    </tr>\n",
       "  </thead>\n",
       "  <tbody>\n",
       "    <tr>\n",
       "      <th>0</th>\n",
       "      <td>Andaman &amp; Nicobar Island</td>\n",
       "      <td>162.0</td>\n",
       "    </tr>\n",
       "    <tr>\n",
       "      <th>1</th>\n",
       "      <td>Andra Pradesh</td>\n",
       "      <td>21.0</td>\n",
       "    </tr>\n",
       "    <tr>\n",
       "      <th>2</th>\n",
       "      <td>Arunachal Pradesh</td>\n",
       "      <td>20.0</td>\n",
       "    </tr>\n",
       "    <tr>\n",
       "      <th>3</th>\n",
       "      <td>Assam</td>\n",
       "      <td>64766.0</td>\n",
       "    </tr>\n",
       "    <tr>\n",
       "      <th>4</th>\n",
       "      <td>Bihar</td>\n",
       "      <td>83335.0</td>\n",
       "    </tr>\n",
       "    <tr>\n",
       "      <th>5</th>\n",
       "      <td>Chandigarh</td>\n",
       "      <td>2812.0</td>\n",
       "    </tr>\n",
       "    <tr>\n",
       "      <th>6</th>\n",
       "      <td>Chhattisgarh</td>\n",
       "      <td>20966.0</td>\n",
       "    </tr>\n",
       "    <tr>\n",
       "      <th>7</th>\n",
       "      <td>Delhi</td>\n",
       "      <td>NaN</td>\n",
       "    </tr>\n",
       "    <tr>\n",
       "      <th>8</th>\n",
       "      <td>Goa</td>\n",
       "      <td>3870.0</td>\n",
       "    </tr>\n",
       "    <tr>\n",
       "      <th>9</th>\n",
       "      <td>Gujarat</td>\n",
       "      <td>45272.0</td>\n",
       "    </tr>\n",
       "    <tr>\n",
       "      <th>10</th>\n",
       "      <td>Haryana</td>\n",
       "      <td>37035.0</td>\n",
       "    </tr>\n",
       "    <tr>\n",
       "      <th>11</th>\n",
       "      <td>Himachal Pradesh</td>\n",
       "      <td>1175.0</td>\n",
       "    </tr>\n",
       "    <tr>\n",
       "      <th>12</th>\n",
       "      <td>Jammu and Kashmir</td>\n",
       "      <td>2941.0</td>\n",
       "    </tr>\n",
       "    <tr>\n",
       "      <th>13</th>\n",
       "      <td>Jharkhand</td>\n",
       "      <td>16811.0</td>\n",
       "    </tr>\n",
       "    <tr>\n",
       "      <th>14</th>\n",
       "      <td>Karnataka</td>\n",
       "      <td>NaN</td>\n",
       "    </tr>\n",
       "    <tr>\n",
       "      <th>15</th>\n",
       "      <td>Kerala</td>\n",
       "      <td>30775.0</td>\n",
       "    </tr>\n",
       "    <tr>\n",
       "      <th>16</th>\n",
       "      <td>Ladakh</td>\n",
       "      <td>26.0</td>\n",
       "    </tr>\n",
       "    <tr>\n",
       "      <th>17</th>\n",
       "      <td>Lakshadweep</td>\n",
       "      <td>21.0</td>\n",
       "    </tr>\n",
       "    <tr>\n",
       "      <th>18</th>\n",
       "      <td>Madhya Pradesh</td>\n",
       "      <td>21.0</td>\n",
       "    </tr>\n",
       "    <tr>\n",
       "      <th>19</th>\n",
       "      <td>Maharashtra</td>\n",
       "      <td>NaN</td>\n",
       "    </tr>\n",
       "    <tr>\n",
       "      <th>20</th>\n",
       "      <td>Manipur</td>\n",
       "      <td>586.0</td>\n",
       "    </tr>\n",
       "    <tr>\n",
       "      <th>21</th>\n",
       "      <td>Meghalaya</td>\n",
       "      <td>49.0</td>\n",
       "    </tr>\n",
       "    <tr>\n",
       "      <th>22</th>\n",
       "      <td>Mizoram</td>\n",
       "      <td>21.0</td>\n",
       "    </tr>\n",
       "    <tr>\n",
       "      <th>23</th>\n",
       "      <td>Nagaland</td>\n",
       "      <td>58.0</td>\n",
       "    </tr>\n",
       "    <tr>\n",
       "      <th>24</th>\n",
       "      <td>Odisha</td>\n",
       "      <td>23371.0</td>\n",
       "    </tr>\n",
       "    <tr>\n",
       "      <th>25</th>\n",
       "      <td>Puducherry</td>\n",
       "      <td>2149.0</td>\n",
       "    </tr>\n",
       "    <tr>\n",
       "      <th>26</th>\n",
       "      <td>Punjab</td>\n",
       "      <td>14804.0</td>\n",
       "    </tr>\n",
       "    <tr>\n",
       "      <th>27</th>\n",
       "      <td>Rajasthan</td>\n",
       "      <td>81338.0</td>\n",
       "    </tr>\n",
       "    <tr>\n",
       "      <th>28</th>\n",
       "      <td>Sikkim</td>\n",
       "      <td>21.0</td>\n",
       "    </tr>\n",
       "    <tr>\n",
       "      <th>29</th>\n",
       "      <td>Tamil Nadu</td>\n",
       "      <td>82051.0</td>\n",
       "    </tr>\n",
       "    <tr>\n",
       "      <th>30</th>\n",
       "      <td>Telangana</td>\n",
       "      <td>21.0</td>\n",
       "    </tr>\n",
       "    <tr>\n",
       "      <th>31</th>\n",
       "      <td>Tripura</td>\n",
       "      <td>9262.0</td>\n",
       "    </tr>\n",
       "    <tr>\n",
       "      <th>32</th>\n",
       "      <td>UT of DNH and DD</td>\n",
       "      <td>183.0</td>\n",
       "    </tr>\n",
       "    <tr>\n",
       "      <th>33</th>\n",
       "      <td>Uttarakhand</td>\n",
       "      <td>31008.0</td>\n",
       "    </tr>\n",
       "    <tr>\n",
       "      <th>34</th>\n",
       "      <td>Uttar Pradesh</td>\n",
       "      <td>NaN</td>\n",
       "    </tr>\n",
       "    <tr>\n",
       "      <th>35</th>\n",
       "      <td>West Bengal</td>\n",
       "      <td>48767.0</td>\n",
       "    </tr>\n",
       "  </tbody>\n",
       "</table>\n",
       "</div>"
      ],
      "text/plain": [
       "                  State Name  Total Electric Vehicle\n",
       "0   Andaman & Nicobar Island                   162.0\n",
       "1              Andra Pradesh                    21.0\n",
       "2          Arunachal Pradesh                    20.0\n",
       "3                      Assam                 64766.0\n",
       "4                      Bihar                 83335.0\n",
       "5                 Chandigarh                  2812.0\n",
       "6               Chhattisgarh                 20966.0\n",
       "7                      Delhi                     NaN\n",
       "8                        Goa                  3870.0\n",
       "9                    Gujarat                 45272.0\n",
       "10                   Haryana                 37035.0\n",
       "11          Himachal Pradesh                  1175.0\n",
       "12         Jammu and Kashmir                  2941.0\n",
       "13                 Jharkhand                 16811.0\n",
       "14                 Karnataka                     NaN\n",
       "15                    Kerala                 30775.0\n",
       "16                    Ladakh                    26.0\n",
       "17               Lakshadweep                    21.0\n",
       "18            Madhya Pradesh                    21.0\n",
       "19               Maharashtra                     NaN\n",
       "20                   Manipur                   586.0\n",
       "21                 Meghalaya                    49.0\n",
       "22                   Mizoram                    21.0\n",
       "23                  Nagaland                    58.0\n",
       "24                    Odisha                 23371.0\n",
       "25                Puducherry                  2149.0\n",
       "26                    Punjab                 14804.0\n",
       "27                 Rajasthan                 81338.0\n",
       "28                    Sikkim                    21.0\n",
       "29                Tamil Nadu                 82051.0\n",
       "30                 Telangana                    21.0\n",
       "31                   Tripura                  9262.0\n",
       "32          UT of DNH and DD                   183.0\n",
       "33               Uttarakhand                 31008.0\n",
       "34             Uttar Pradesh                     NaN\n",
       "35               West Bengal                 48767.0"
      ]
     },
     "execution_count": 14,
     "metadata": {},
     "output_type": "execute_result"
    }
   ],
   "source": [
    "df[[\"State Name\",\"Total Electric Vehicle\"]]"
   ]
  },
  {
   "cell_type": "markdown",
   "metadata": {},
   "source": [
    "<h3>Geographic segmentation is a marketing strategy used to target products or \n",
    "services at people who live in, or shop at, a particular location. \n",
    "It works on the principle that people in that location have similar needs, \n",
    "wants, and cultural considerations. \n",
    "By understanding what people in that area require, brands can target more\n",
    "relevant marketing messages and suitable products to customers who are then aware \n",
    "and more likely to buy.</h3>"
   ]
  },
  {
   "cell_type": "code",
   "execution_count": 15,
   "metadata": {},
   "outputs": [
    {
     "data": {
      "text/html": [
       "<div>\n",
       "<style scoped>\n",
       "    .dataframe tbody tr th:only-of-type {\n",
       "        vertical-align: middle;\n",
       "    }\n",
       "\n",
       "    .dataframe tbody tr th {\n",
       "        vertical-align: top;\n",
       "    }\n",
       "\n",
       "    .dataframe thead th {\n",
       "        text-align: right;\n",
       "    }\n",
       "</style>\n",
       "<table border=\"1\" class=\"dataframe\">\n",
       "  <thead>\n",
       "    <tr style=\"text-align: right;\">\n",
       "      <th></th>\n",
       "      <th></th>\n",
       "      <th>Sr. No.</th>\n",
       "      <th>Total Non-Electric Vehicle</th>\n",
       "      <th>Total</th>\n",
       "    </tr>\n",
       "    <tr>\n",
       "      <th>State Name</th>\n",
       "      <th>Total Electric Vehicle</th>\n",
       "      <th></th>\n",
       "      <th></th>\n",
       "      <th></th>\n",
       "    </tr>\n",
       "  </thead>\n",
       "  <tbody>\n",
       "    <tr>\n",
       "      <th>Andaman &amp; Nicobar Island</th>\n",
       "      <th>162.0</th>\n",
       "      <td>1</td>\n",
       "      <td>1,46,945</td>\n",
       "      <td>1,47,107</td>\n",
       "    </tr>\n",
       "    <tr>\n",
       "      <th>Andra Pradesh</th>\n",
       "      <th>21.0</th>\n",
       "      <td>2</td>\n",
       "      <td>1,04,07,078</td>\n",
       "      <td>1,04,90,413</td>\n",
       "    </tr>\n",
       "    <tr>\n",
       "      <th>Arunachal Pradesh</th>\n",
       "      <th>20.0</th>\n",
       "      <td>3</td>\n",
       "      <td>2,52,965</td>\n",
       "      <td>2,52,985</td>\n",
       "    </tr>\n",
       "    <tr>\n",
       "      <th>Assam</th>\n",
       "      <th>64766.0</th>\n",
       "      <td>4</td>\n",
       "      <td>46,77,053</td>\n",
       "      <td>47,41,819</td>\n",
       "    </tr>\n",
       "    <tr>\n",
       "      <th>Bihar</th>\n",
       "      <th>83335.0</th>\n",
       "      <td>5</td>\n",
       "      <td>1,04,07,078</td>\n",
       "      <td>1,04,90,413</td>\n",
       "    </tr>\n",
       "    <tr>\n",
       "      <th>Chandigarh</th>\n",
       "      <th>2812.0</th>\n",
       "      <td>6</td>\n",
       "      <td>7,46,881</td>\n",
       "      <td>7,49,693</td>\n",
       "    </tr>\n",
       "    <tr>\n",
       "      <th>Chhattisgarh</th>\n",
       "      <th>20966.0</th>\n",
       "      <td>7</td>\n",
       "      <td>68,36,200</td>\n",
       "      <td>68,57,166</td>\n",
       "    </tr>\n",
       "    <tr>\n",
       "      <th>Goa</th>\n",
       "      <th>3870.0</th>\n",
       "      <td>9</td>\n",
       "      <td>10,71,570</td>\n",
       "      <td>10,75,440</td>\n",
       "    </tr>\n",
       "    <tr>\n",
       "      <th>Gujarat</th>\n",
       "      <th>45272.0</th>\n",
       "      <td>10</td>\n",
       "      <td>2,06,05,484</td>\n",
       "      <td>2,06,50,756</td>\n",
       "    </tr>\n",
       "    <tr>\n",
       "      <th>Haryana</th>\n",
       "      <th>37035.0</th>\n",
       "      <td>11</td>\n",
       "      <td>1,07,78,270</td>\n",
       "      <td>1,08,15,305</td>\n",
       "    </tr>\n",
       "    <tr>\n",
       "      <th>Himachal Pradesh</th>\n",
       "      <th>1175.0</th>\n",
       "      <td>12</td>\n",
       "      <td>19,64,754</td>\n",
       "      <td>19,65,929</td>\n",
       "    </tr>\n",
       "    <tr>\n",
       "      <th>Jammu and Kashmir</th>\n",
       "      <th>2941.0</th>\n",
       "      <td>13</td>\n",
       "      <td>18,69,962</td>\n",
       "      <td>18,72,903</td>\n",
       "    </tr>\n",
       "    <tr>\n",
       "      <th>Jharkhand</th>\n",
       "      <th>16811.0</th>\n",
       "      <td>14</td>\n",
       "      <td>64,86,937</td>\n",
       "      <td>65,03,748</td>\n",
       "    </tr>\n",
       "    <tr>\n",
       "      <th>Kerala</th>\n",
       "      <th>30775.0</th>\n",
       "      <td>16</td>\n",
       "      <td>1,57,74,078</td>\n",
       "      <td>1,58,04,853</td>\n",
       "    </tr>\n",
       "    <tr>\n",
       "      <th>Ladakh</th>\n",
       "      <th>26.0</th>\n",
       "      <td>17</td>\n",
       "      <td>38302</td>\n",
       "      <td>38328</td>\n",
       "    </tr>\n",
       "    <tr>\n",
       "      <th>Lakshadweep</th>\n",
       "      <th>21.0</th>\n",
       "      <td>18</td>\n",
       "      <td>1,04,07,078</td>\n",
       "      <td>1,04,90,413</td>\n",
       "    </tr>\n",
       "    <tr>\n",
       "      <th>Madhya Pradesh</th>\n",
       "      <th>21.0</th>\n",
       "      <td>19</td>\n",
       "      <td>1,04,07,078</td>\n",
       "      <td>1,04,90,413</td>\n",
       "    </tr>\n",
       "    <tr>\n",
       "      <th>Manipur</th>\n",
       "      <th>586.0</th>\n",
       "      <td>21</td>\n",
       "      <td>4,99,324</td>\n",
       "      <td>4,99,910</td>\n",
       "    </tr>\n",
       "    <tr>\n",
       "      <th>Meghalaya</th>\n",
       "      <th>49.0</th>\n",
       "      <td>22</td>\n",
       "      <td>4,59,001</td>\n",
       "      <td>4,59,050</td>\n",
       "    </tr>\n",
       "    <tr>\n",
       "      <th>Mizoram</th>\n",
       "      <th>21.0</th>\n",
       "      <td>23</td>\n",
       "      <td>3,15,626</td>\n",
       "      <td>3,15,647</td>\n",
       "    </tr>\n",
       "    <tr>\n",
       "      <th>Nagaland</th>\n",
       "      <th>58.0</th>\n",
       "      <td>24</td>\n",
       "      <td>3,39,129</td>\n",
       "      <td>3,39,187</td>\n",
       "    </tr>\n",
       "    <tr>\n",
       "      <th>Odisha</th>\n",
       "      <th>23371.0</th>\n",
       "      <td>25</td>\n",
       "      <td>98,45,073</td>\n",
       "      <td>98,68,444</td>\n",
       "    </tr>\n",
       "    <tr>\n",
       "      <th>Puducherry</th>\n",
       "      <th>2149.0</th>\n",
       "      <td>26</td>\n",
       "      <td>12,13,735</td>\n",
       "      <td>12,15,884</td>\n",
       "    </tr>\n",
       "    <tr>\n",
       "      <th>Punjab</th>\n",
       "      <th>14804.0</th>\n",
       "      <td>27</td>\n",
       "      <td>1,24,63,019</td>\n",
       "      <td>1,24,77,823</td>\n",
       "    </tr>\n",
       "    <tr>\n",
       "      <th>Rajasthan</th>\n",
       "      <th>81338.0</th>\n",
       "      <td>28</td>\n",
       "      <td>1,73,27,388</td>\n",
       "      <td>1,74,08,726</td>\n",
       "    </tr>\n",
       "    <tr>\n",
       "      <th>Sikkim</th>\n",
       "      <th>21.0</th>\n",
       "      <td>29</td>\n",
       "      <td>97189</td>\n",
       "      <td>97210</td>\n",
       "    </tr>\n",
       "    <tr>\n",
       "      <th>Tamil Nadu</th>\n",
       "      <th>82051.0</th>\n",
       "      <td>30</td>\n",
       "      <td>2,98,42,376</td>\n",
       "      <td>2,99,24,427</td>\n",
       "    </tr>\n",
       "    <tr>\n",
       "      <th>Telangana</th>\n",
       "      <th>21.0</th>\n",
       "      <td>31</td>\n",
       "      <td>1,04,07,078</td>\n",
       "      <td>1,04,90,413</td>\n",
       "    </tr>\n",
       "    <tr>\n",
       "      <th>Tripura</th>\n",
       "      <th>9262.0</th>\n",
       "      <td>32</td>\n",
       "      <td>6,50,026</td>\n",
       "      <td>6,59,288</td>\n",
       "    </tr>\n",
       "    <tr>\n",
       "      <th>UT of DNH and DD</th>\n",
       "      <th>183.0</th>\n",
       "      <td>33</td>\n",
       "      <td>3,07,671</td>\n",
       "      <td>3,07,854</td>\n",
       "    </tr>\n",
       "    <tr>\n",
       "      <th>Uttarakhand</th>\n",
       "      <th>31008.0</th>\n",
       "      <td>34</td>\n",
       "      <td>33,12,041</td>\n",
       "      <td>33,43,049</td>\n",
       "    </tr>\n",
       "    <tr>\n",
       "      <th>West Bengal</th>\n",
       "      <th>48767.0</th>\n",
       "      <td>36</td>\n",
       "      <td>1,41,34,171</td>\n",
       "      <td>1,41,82,938</td>\n",
       "    </tr>\n",
       "  </tbody>\n",
       "</table>\n",
       "</div>"
      ],
      "text/plain": [
       "                                                 Sr. No.  \\\n",
       "State Name               Total Electric Vehicle            \n",
       "Andaman & Nicobar Island 162.0                         1   \n",
       "Andra Pradesh            21.0                          2   \n",
       "Arunachal Pradesh        20.0                          3   \n",
       "Assam                    64766.0                       4   \n",
       "Bihar                    83335.0                       5   \n",
       "Chandigarh               2812.0                        6   \n",
       "Chhattisgarh             20966.0                       7   \n",
       "Goa                      3870.0                        9   \n",
       "Gujarat                  45272.0                      10   \n",
       "Haryana                  37035.0                      11   \n",
       "Himachal Pradesh         1175.0                       12   \n",
       "Jammu and Kashmir        2941.0                       13   \n",
       "Jharkhand                16811.0                      14   \n",
       "Kerala                   30775.0                      16   \n",
       "Ladakh                   26.0                         17   \n",
       "Lakshadweep              21.0                         18   \n",
       "Madhya Pradesh           21.0                         19   \n",
       "Manipur                  586.0                        21   \n",
       "Meghalaya                49.0                         22   \n",
       "Mizoram                  21.0                         23   \n",
       "Nagaland                 58.0                         24   \n",
       "Odisha                   23371.0                      25   \n",
       "Puducherry               2149.0                       26   \n",
       "Punjab                   14804.0                      27   \n",
       "Rajasthan                81338.0                      28   \n",
       "Sikkim                   21.0                         29   \n",
       "Tamil Nadu               82051.0                      30   \n",
       "Telangana                21.0                         31   \n",
       "Tripura                  9262.0                       32   \n",
       "UT of DNH and DD         183.0                        33   \n",
       "Uttarakhand              31008.0                      34   \n",
       "West Bengal              48767.0                      36   \n",
       "\n",
       "                                                Total Non-Electric Vehicle  \\\n",
       "State Name               Total Electric Vehicle                              \n",
       "Andaman & Nicobar Island 162.0                                    1,46,945   \n",
       "Andra Pradesh            21.0                                  1,04,07,078   \n",
       "Arunachal Pradesh        20.0                                     2,52,965   \n",
       "Assam                    64766.0                                 46,77,053   \n",
       "Bihar                    83335.0                               1,04,07,078   \n",
       "Chandigarh               2812.0                                   7,46,881   \n",
       "Chhattisgarh             20966.0                                 68,36,200   \n",
       "Goa                      3870.0                                  10,71,570   \n",
       "Gujarat                  45272.0                               2,06,05,484   \n",
       "Haryana                  37035.0                               1,07,78,270   \n",
       "Himachal Pradesh         1175.0                                  19,64,754   \n",
       "Jammu and Kashmir        2941.0                                  18,69,962   \n",
       "Jharkhand                16811.0                                 64,86,937   \n",
       "Kerala                   30775.0                               1,57,74,078   \n",
       "Ladakh                   26.0                                        38302   \n",
       "Lakshadweep              21.0                                  1,04,07,078   \n",
       "Madhya Pradesh           21.0                                  1,04,07,078   \n",
       "Manipur                  586.0                                    4,99,324   \n",
       "Meghalaya                49.0                                     4,59,001   \n",
       "Mizoram                  21.0                                     3,15,626   \n",
       "Nagaland                 58.0                                     3,39,129   \n",
       "Odisha                   23371.0                                 98,45,073   \n",
       "Puducherry               2149.0                                  12,13,735   \n",
       "Punjab                   14804.0                               1,24,63,019   \n",
       "Rajasthan                81338.0                               1,73,27,388   \n",
       "Sikkim                   21.0                                        97189   \n",
       "Tamil Nadu               82051.0                               2,98,42,376   \n",
       "Telangana                21.0                                  1,04,07,078   \n",
       "Tripura                  9262.0                                   6,50,026   \n",
       "UT of DNH and DD         183.0                                    3,07,671   \n",
       "Uttarakhand              31008.0                                 33,12,041   \n",
       "West Bengal              48767.0                               1,41,34,171   \n",
       "\n",
       "                                                       Total  \n",
       "State Name               Total Electric Vehicle               \n",
       "Andaman & Nicobar Island 162.0                      1,47,107  \n",
       "Andra Pradesh            21.0                    1,04,90,413  \n",
       "Arunachal Pradesh        20.0                       2,52,985  \n",
       "Assam                    64766.0                   47,41,819  \n",
       "Bihar                    83335.0                 1,04,90,413  \n",
       "Chandigarh               2812.0                     7,49,693  \n",
       "Chhattisgarh             20966.0                   68,57,166  \n",
       "Goa                      3870.0                    10,75,440  \n",
       "Gujarat                  45272.0                 2,06,50,756  \n",
       "Haryana                  37035.0                 1,08,15,305  \n",
       "Himachal Pradesh         1175.0                    19,65,929  \n",
       "Jammu and Kashmir        2941.0                    18,72,903  \n",
       "Jharkhand                16811.0                   65,03,748  \n",
       "Kerala                   30775.0                 1,58,04,853  \n",
       "Ladakh                   26.0                          38328  \n",
       "Lakshadweep              21.0                    1,04,90,413  \n",
       "Madhya Pradesh           21.0                    1,04,90,413  \n",
       "Manipur                  586.0                      4,99,910  \n",
       "Meghalaya                49.0                       4,59,050  \n",
       "Mizoram                  21.0                       3,15,647  \n",
       "Nagaland                 58.0                       3,39,187  \n",
       "Odisha                   23371.0                   98,68,444  \n",
       "Puducherry               2149.0                    12,15,884  \n",
       "Punjab                   14804.0                 1,24,77,823  \n",
       "Rajasthan                81338.0                 1,74,08,726  \n",
       "Sikkim                   21.0                          97210  \n",
       "Tamil Nadu               82051.0                 2,99,24,427  \n",
       "Telangana                21.0                    1,04,90,413  \n",
       "Tripura                  9262.0                     6,59,288  \n",
       "UT of DNH and DD         183.0                      3,07,854  \n",
       "Uttarakhand              31008.0                   33,43,049  \n",
       "West Bengal              48767.0                 1,41,82,938  "
      ]
     },
     "execution_count": 15,
     "metadata": {},
     "output_type": "execute_result"
    }
   ],
   "source": [
    " df.groupby([\"State Name\",\"Total Electric Vehicle\"]).agg('min')"
   ]
  },
  {
   "cell_type": "markdown",
   "metadata": {},
   "source": [
    "<h3>Groupby() is a powerful function in pandas that allows you to group data based on a single column or more. \n",
    "You can apply many operations to a groupby object, including aggregation functions like sum(), mean(), \n",
    "and count(),min(),max().\n",
    "above analysis help out to check which state have a total ev available or which state as non ev based on min() function\n",
    "</h3>"
   ]
  },
  {
   "cell_type": "code",
   "execution_count": 16,
   "metadata": {},
   "outputs": [
    {
     "data": {
      "text/html": [
       "<div>\n",
       "<style scoped>\n",
       "    .dataframe tbody tr th:only-of-type {\n",
       "        vertical-align: middle;\n",
       "    }\n",
       "\n",
       "    .dataframe tbody tr th {\n",
       "        vertical-align: top;\n",
       "    }\n",
       "\n",
       "    .dataframe thead th {\n",
       "        text-align: right;\n",
       "    }\n",
       "</style>\n",
       "<table border=\"1\" class=\"dataframe\">\n",
       "  <thead>\n",
       "    <tr style=\"text-align: right;\">\n",
       "      <th></th>\n",
       "      <th>Total Electric Vehicle</th>\n",
       "      <th>Total Non-Electric Vehicle</th>\n",
       "    </tr>\n",
       "  </thead>\n",
       "  <tbody>\n",
       "    <tr>\n",
       "      <th>0</th>\n",
       "      <td>162.0</td>\n",
       "      <td>1,46,945</td>\n",
       "    </tr>\n",
       "    <tr>\n",
       "      <th>1</th>\n",
       "      <td>21.0</td>\n",
       "      <td>1,04,07,078</td>\n",
       "    </tr>\n",
       "    <tr>\n",
       "      <th>2</th>\n",
       "      <td>20.0</td>\n",
       "      <td>2,52,965</td>\n",
       "    </tr>\n",
       "    <tr>\n",
       "      <th>3</th>\n",
       "      <td>64766.0</td>\n",
       "      <td>46,77,053</td>\n",
       "    </tr>\n",
       "    <tr>\n",
       "      <th>4</th>\n",
       "      <td>83335.0</td>\n",
       "      <td>1,04,07,078</td>\n",
       "    </tr>\n",
       "  </tbody>\n",
       "</table>\n",
       "</div>"
      ],
      "text/plain": [
       "   Total Electric Vehicle Total Non-Electric Vehicle\n",
       "0                   162.0                   1,46,945\n",
       "1                    21.0                1,04,07,078\n",
       "2                    20.0                   2,52,965\n",
       "3                 64766.0                  46,77,053\n",
       "4                 83335.0                1,04,07,078"
      ]
     },
     "execution_count": 16,
     "metadata": {},
     "output_type": "execute_result"
    }
   ],
   "source": [
    "xx=df[[\"Total Electric Vehicle\",\"Total Non-Electric Vehicle\"]]\n",
    "xx[0:5]"
   ]
  },
  {
   "cell_type": "markdown",
   "metadata": {},
   "source": [
    "<h4>EDA</h4>\n",
    "<h5>Exploratory Data Analysis (EDA) is an approach that is used to analyze the data \n",
    "and discover trends, patterns, or check assumptions in data with the help of \n",
    "statistical summaries and graphical representations.</h5>"
   ]
  },
  {
   "cell_type": "code",
   "execution_count": 17,
   "metadata": {},
   "outputs": [],
   "source": [
    "data=df[\"Total Electric Vehicle\"]\n",
    "\n",
    "state=df[\"State Name\"]"
   ]
  },
  {
   "cell_type": "code",
   "execution_count": 18,
   "metadata": {},
   "outputs": [
    {
     "data": {
      "image/png": "[encoded data removed]",
      "text/plain": [
       "<Figure size 864x504 with 1 Axes>"
      ]
     },
     "metadata": {
      "needs_background": "light"
     },
     "output_type": "display_data"
    }
   ],
   "source": [
    "#plot\n",
    "\n",
    "fig=plt.figure(figsize=(12,7))\n",
    "plt.plot(data,state)\n",
    "plt.show()"
   ]
  },
  {
   "cell_type": "code",
   "execution_count": null,
   "metadata": {},
   "outputs": [],
   "source": []
  },
  {
   "cell_type": "code",
   "execution_count": 19,
   "metadata": {},
   "outputs": [],
   "source": [
    "state=df[\"State Name\"]\n",
    "ev=df[\"Total Non-Electric Vehicle\"]"
   ]
  },
  {
   "cell_type": "code",
   "execution_count": 20,
   "metadata": {},
   "outputs": [
    {
     "data": {
      "image/png": "[encoded data removed]",
      "text/plain": [
       "<Figure size 1440x1440 with 1 Axes>"
      ]
     },
     "metadata": {
      "needs_background": "light"
     },
     "output_type": "display_data"
    }
   ],
   "source": [
    "plt.figure(figsize=(20,20))\n",
    "plt.scatter(state,ev,color='r')\n",
    "\n",
    "plt.xlabel(\"states\")\n",
    "plt.ylabel(\"total non evs\")\n",
    "plt.show()"
   ]
  },
  {
   "cell_type": "markdown",
   "metadata": {},
   "source": [
    "<h3>state wise and total non_ev eda to analyse which state as maximum evs \n",
    "user/customer and also analyze the how much customers are use ev </h3>"
   ]
  },
  {
   "cell_type": "code",
   "execution_count": 21,
   "metadata": {},
   "outputs": [],
   "source": [
    "ev=df[\"Total Electric Vehicle\"]\n",
    "non_ev=df[\"Total Non-Electric Vehicle\"]"
   ]
  },
  {
   "cell_type": "code",
   "execution_count": 22,
   "metadata": {},
   "outputs": [
    {
     "data": {
      "image/png": "[encoded data removed]",
      "text/plain": [
       "<Figure size 1080x1080 with 1 Axes>"
      ]
     },
     "metadata": {
      "needs_background": "light"
     },
     "output_type": "display_data"
    }
   ],
   "source": [
    "plt.figure(figsize=(15,15))\n",
    "plt.scatter(ev,non_ev,color='r')\n",
    "\n",
    "plt.xlabel(\"total  evs\")\n",
    "plt.ylabel(\"total  non evs\")\n",
    "plt.show()"
   ]
  },
  {
   "cell_type": "markdown",
   "metadata": {},
   "source": [
    "<h3>Analysing the ev market segment</h3>\n",
    "<h5>The market has been categorized by end-user type into personal vehicles and \n",
    "commercial vehicles. \n",
    "The personal vehicles segment will capture the largest share accounting for \n",
    "over 90% of the electric vehicles sales by 2023. \n",
    "This segment is expected to remain dominant over the forecast period as \n",
    "the market witnesses an increase in demand from individuals looking to \n",
    "purchase electric vehicles for personal use.</h5>"
   ]
  },
  {
   "cell_type": "markdown",
   "metadata": {},
   "source": [
    "<h3>Electric Vehicle Market Challenge</h3>\n",
    "<h5>The high manufacturing cost of EVs is a major challenge impeding the market. \n",
    "The cost of manufacturing EVs is higher than gas-powered vehicles, which is a big hindrance to the growth of the global market. The high cost of production restricts automakers from manufacturing more units of EVs.</h5> "
   ]
  },
  {
   "cell_type": "markdown",
   "metadata": {},
   "source": [
    "<h3>max ev /maximum ev availabe in west bengal</h3>\n",
    "<h5>after segmentation we analysze the maxiamum available evs in west bangal state</h5>"
   ]
  },
  {
   "cell_type": "code",
   "execution_count": 23,
   "metadata": {},
   "outputs": [
    {
     "data": {
      "text/plain": [
       "State Name                West Bengal\n",
       "Total Electric Vehicle          83335\n",
       "dtype: object"
      ]
     },
     "execution_count": 23,
     "metadata": {},
     "output_type": "execute_result"
    }
   ],
   "source": [
    "df[[\"State Name\",\"Total Electric Vehicle\"]].max()"
   ]
  },
  {
   "cell_type": "markdown",
   "metadata": {},
   "source": [
    "<h3>min ev/minimum ev availabe in Andaman & Nicobar Island</h3> \n",
    "<h5>after segmentation we analysze the minimum available evs in Andaman & Nicobar Island state</h5>"
   ]
  },
  {
   "cell_type": "code",
   "execution_count": 24,
   "metadata": {},
   "outputs": [
    {
     "data": {
      "text/plain": [
       "State Name                Andaman & Nicobar Island\n",
       "Total Electric Vehicle                          20\n",
       "dtype: object"
      ]
     },
     "execution_count": 24,
     "metadata": {},
     "output_type": "execute_result"
    }
   ],
   "source": [
    "df[[\"State Name\",\"Total Electric Vehicle\"]].min()"
   ]
  },
  {
   "cell_type": "markdown",
   "metadata": {},
   "source": [
    "<h3>Conclusion</h3>\n",
    "<h4>The EV revolution is higher side, and it will only pick up speed. With so many benefits, it’s no wonder why EVs are becoming more popular each year. As someone running an automotive business, it’s important to be ahead of the curve and prepared for electric vehicles. also help for environment and save money.</h4>"
   ]
  },
  {
   "cell_type": "code",
   "execution_count": null,
   "metadata": {},
   "outputs": [],
   "source": []
  }
 ],
 "metadata": {
  "kernelspec": {
   "display_name": "Python 3",
   "language": "python",
   "name": "python3"
  },
  "language_info": {
   "codemirror_mode": {
    "name": "ipython",
    "version": 3
   },
   "file_extension": ".py",
   "mimetype": "text/x-python",
   "name": "python",
   "nbconvert_exporter": "python",
   "pygments_lexer": "ipython3",
   "version": "3.7.6"
  }
 },
 "nbformat": 4,
 "nbformat_minor": 4
}
